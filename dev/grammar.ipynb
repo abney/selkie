{
 "cells": [
  {
   "cell_type": "code",
   "execution_count": 1,
   "id": "838eb584",
   "metadata": {},
   "outputs": [],
   "source": [
    "from selkie.data import ex\n",
    "from selkie.grammar import Grammar\n",
    "g = Grammar(ex('tinygen.g'))"
   ]
  },
  {
   "cell_type": "code",
   "execution_count": 2,
   "id": "2a93e9f7",
   "metadata": {},
   "outputs": [],
   "source": [
    "from selkie.bot import NPC\n",
    "npc = NPC(ex('sg2a'))"
   ]
  },
  {
   "cell_type": "code",
   "execution_count": 3,
   "id": "ebf9275c",
   "metadata": {},
   "outputs": [],
   "source": [
    "from selkie.bot import Engine, Event\n",
    "engine = Engine()"
   ]
  },
  {
   "cell_type": "code",
   "execution_count": 4,
   "id": "15fb9d45",
   "metadata": {},
   "outputs": [
    {
     "data": {
      "text/plain": [
       "<selkie.bot.Player at 0x7f9efb9d9790>"
      ]
     },
     "execution_count": 4,
     "metadata": {},
     "output_type": "execute_result"
    }
   ],
   "source": [
    "player = engine.player\n",
    "player"
   ]
  },
  {
   "cell_type": "code",
   "execution_count": 5,
   "id": "f7d7db3e",
   "metadata": {},
   "outputs": [],
   "source": [
    "sayhi = Event(player, ('say', 'hi'))"
   ]
  },
  {
   "cell_type": "code",
   "execution_count": 6,
   "id": "7bff46fd",
   "metadata": {},
   "outputs": [
    {
     "data": {
      "text/plain": [
       "('say', 'hello')"
      ]
     },
     "execution_count": 6,
     "metadata": {},
     "output_type": "execute_result"
    }
   ],
   "source": [
    "npc(sayhi)"
   ]
  },
  {
   "cell_type": "code",
   "execution_count": 7,
   "id": "4287172b",
   "metadata": {},
   "outputs": [
    {
     "data": {
      "text/plain": [
       "('say', \"I don't understand\")"
      ]
     },
     "execution_count": 7,
     "metadata": {},
     "output_type": "execute_result"
    }
   ],
   "source": [
    "npc(Event(None, ('say', 'sdfsdf')))"
   ]
  },
  {
   "cell_type": "code",
   "execution_count": null,
   "id": "c5337df9",
   "metadata": {},
   "outputs": [],
   "source": [
    "from selkie.bot import Player\n"
   ]
  }
 ],
 "metadata": {
  "kernelspec": {
   "display_name": "Python 3 (ipykernel)",
   "language": "python",
   "name": "python3"
  },
  "language_info": {
   "codemirror_mode": {
    "name": "ipython",
    "version": 3
   },
   "file_extension": ".py",
   "mimetype": "text/x-python",
   "name": "python",
   "nbconvert_exporter": "python",
   "pygments_lexer": "ipython3",
   "version": "3.9.7"
  }
 },
 "nbformat": 4,
 "nbformat_minor": 5
}
