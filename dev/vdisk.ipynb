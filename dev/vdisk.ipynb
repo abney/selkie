{
 "cells": [
  {
   "cell_type": "code",
   "execution_count": 1,
   "id": "d96906f8",
   "metadata": {},
   "outputs": [],
   "source": [
    "from selkie.disk import JSONDisk\n",
    "disk = JSONDisk('/tmp/foo')"
   ]
  },
  {
   "cell_type": "code",
   "execution_count": 2,
   "id": "b6975732",
   "metadata": {},
   "outputs": [],
   "source": [
    "x = {'foo': ['bar', {'blip': 42, 'boo': '  asdf'}], 'moo': False, 'goo': None}"
   ]
  },
  {
   "cell_type": "code",
   "execution_count": 3,
   "id": "ee5c2ecb",
   "metadata": {},
   "outputs": [
    {
     "data": {
      "text/plain": [
       "False"
      ]
     },
     "execution_count": 3,
     "metadata": {},
     "output_type": "execute_result"
    }
   ],
   "source": [
    "'/foo/bar' in disk"
   ]
  },
  {
   "cell_type": "code",
   "execution_count": 5,
   "id": "dbd093da",
   "metadata": {},
   "outputs": [],
   "source": [
    "disk['/foo/bar'] = x"
   ]
  },
  {
   "cell_type": "code",
   "execution_count": 6,
   "id": "db628dc7",
   "metadata": {},
   "outputs": [
    {
     "data": {
      "text/plain": [
       "{'foo': ['bar', {'blip': 42, 'boo': '  asdf'}], 'moo': False, 'goo': None}"
      ]
     },
     "execution_count": 6,
     "metadata": {},
     "output_type": "execute_result"
    }
   ],
   "source": [
    "disk['/foo/bar']"
   ]
  },
  {
   "cell_type": "code",
   "execution_count": 10,
   "id": "91c88cab",
   "metadata": {},
   "outputs": [
    {
     "name": "stdout",
     "output_type": "stream",
     "text": [
      "bar\r\n"
     ]
    }
   ],
   "source": [
    "ls /tmp/foo/foo"
   ]
  },
  {
   "cell_type": "code",
   "execution_count": 11,
   "id": "ec8e6592",
   "metadata": {},
   "outputs": [
    {
     "name": "stdout",
     "output_type": "stream",
     "text": [
      "foo []:\r\n",
      "  |bar\r\n",
      "  {}:\r\n",
      "    blip 42\r\n",
      "    boo |  asdf\r\n",
      "moo :F\r\n",
      "goo -\r\n"
     ]
    }
   ],
   "source": [
    "cat /tmp/foo/foo/bar"
   ]
  },
  {
   "cell_type": "code",
   "execution_count": null,
   "id": "4b866559",
   "metadata": {},
   "outputs": [],
   "source": []
  }
 ],
 "metadata": {
  "kernelspec": {
   "display_name": "Python 3 (ipykernel)",
   "language": "python",
   "name": "python3"
  },
  "language_info": {
   "codemirror_mode": {
    "name": "ipython",
    "version": 3
   },
   "file_extension": ".py",
   "mimetype": "text/x-python",
   "name": "python",
   "nbconvert_exporter": "python",
   "pygments_lexer": "ipython3",
   "version": "3.9.7"
  }
 },
 "nbformat": 4,
 "nbformat_minor": 5
}
