{
 "cells": [
  {
   "cell_type": "code",
   "execution_count": 6,
   "id": "aa2a32cd",
   "metadata": {},
   "outputs": [],
   "source": [
    "from selkie.nlp.xml import load_xml\n",
    "xml = load_xml('nlp/corpus/xml.html')"
   ]
  },
  {
   "cell_type": "code",
   "execution_count": 13,
   "id": "52c9b851",
   "metadata": {},
   "outputs": [
    {
     "data": {
      "text/plain": [
       "[<Tree #CDATA '\\n'>,\n",
       " <Tree head ...>,\n",
       " <Tree #CDATA '\\n'>,\n",
       " <Tree body ...>,\n",
       " <Tree #CDATA '\\n'>]"
      ]
     },
     "execution_count": 13,
     "metadata": {},
     "output_type": "execute_result"
    }
   ],
   "source": [
    "xml.children"
   ]
  },
  {
   "cell_type": "code",
   "execution_count": 15,
   "id": "c8ce2523",
   "metadata": {},
   "outputs": [
    {
     "data": {
      "text/plain": [
       "'html'"
      ]
     },
     "execution_count": 15,
     "metadata": {},
     "output_type": "execute_result"
    }
   ],
   "source": [
    "xml.cat"
   ]
  },
  {
   "cell_type": "code",
   "execution_count": 16,
   "id": "5bc4f6cd",
   "metadata": {},
   "outputs": [
    {
     "data": {
      "text/plain": [
       "'\\n'"
      ]
     },
     "execution_count": 16,
     "metadata": {},
     "output_type": "execute_result"
    }
   ],
   "source": [
    "xml.children[0].word"
   ]
  },
  {
   "cell_type": "code",
   "execution_count": 23,
   "id": "b79959d9",
   "metadata": {},
   "outputs": [
    {
     "data": {
      "text/plain": [
       "<Tree body ...>"
      ]
     },
     "execution_count": 23,
     "metadata": {},
     "output_type": "execute_result"
    }
   ],
   "source": [
    "body = xml.children[3]\n",
    "body"
   ]
  },
  {
   "cell_type": "code",
   "execution_count": 25,
   "id": "76fc8ac9",
   "metadata": {},
   "outputs": [
    {
     "data": {
      "text/plain": [
       "<Tree h1 ...>"
      ]
     },
     "execution_count": 25,
     "metadata": {},
     "output_type": "execute_result"
    }
   ],
   "source": [
    "h1 = body.children[1]\n",
    "h1"
   ]
  },
  {
   "cell_type": "code",
   "execution_count": 26,
   "id": "2854d62b",
   "metadata": {},
   "outputs": [
    {
     "data": {
      "text/plain": [
       "[<Tree #CDATA 'XML files'>]"
      ]
     },
     "execution_count": 26,
     "metadata": {},
     "output_type": "execute_result"
    }
   ],
   "source": [
    "h1.children"
   ]
  },
  {
   "cell_type": "code",
   "execution_count": 31,
   "id": "106e89ac",
   "metadata": {},
   "outputs": [
    {
     "data": {
      "text/plain": [
       "1"
      ]
     },
     "execution_count": 31,
     "metadata": {},
     "output_type": "execute_result"
    }
   ],
   "source": [
    "tables = [node for node in xml.preorder() if node.cat == 'table']\n",
    "len(tables)"
   ]
  },
  {
   "cell_type": "code",
   "execution_count": 32,
   "id": "646e2f54",
   "metadata": {},
   "outputs": [
    {
     "data": {
      "text/plain": [
       "[<Tree #CDATA '\\n'>,\n",
       " <Tree tr ...>,\n",
       " <Tree #CDATA '\\n'>,\n",
       " <Tree tr ...>,\n",
       " <Tree #CDATA '\\n'>,\n",
       " <Tree tr ...>,\n",
       " <Tree #CDATA '\\n'>,\n",
       " <Tree tr ...>,\n",
       " <Tree #CDATA '\\n'>,\n",
       " <Tree tr ...>,\n",
       " <Tree #CDATA '\\n'>]"
      ]
     },
     "execution_count": 32,
     "metadata": {},
     "output_type": "execute_result"
    }
   ],
   "source": [
    "table = tables[0]\n",
    "table.children"
   ]
  },
  {
   "cell_type": "code",
   "execution_count": 33,
   "id": "4b1fa68c",
   "metadata": {},
   "outputs": [
    {
     "data": {
      "text/plain": [
       "<Tree tr ...>"
      ]
     },
     "execution_count": 33,
     "metadata": {},
     "output_type": "execute_result"
    }
   ],
   "source": [
    "row = table.children[1]\n",
    "row"
   ]
  },
  {
   "cell_type": "code",
   "execution_count": 34,
   "id": "135da5a9",
   "metadata": {},
   "outputs": [
    {
     "data": {
      "text/plain": [
       "[<Tree td ...>, <Tree #CDATA ' '>, <Tree td ...>]"
      ]
     },
     "execution_count": 34,
     "metadata": {},
     "output_type": "execute_result"
    }
   ],
   "source": [
    "row.children"
   ]
  },
  {
   "cell_type": "code",
   "execution_count": null,
   "id": "f81dd717",
   "metadata": {},
   "outputs": [],
   "source": []
  }
 ],
 "metadata": {
  "kernelspec": {
   "display_name": "Python 3 (ipykernel)",
   "language": "python",
   "name": "python3"
  },
  "language_info": {
   "codemirror_mode": {
    "name": "ipython",
    "version": 3
   },
   "file_extension": ".py",
   "mimetype": "text/x-python",
   "name": "python",
   "nbconvert_exporter": "python",
   "pygments_lexer": "ipython3",
   "version": "3.8.12"
  }
 },
 "nbformat": 4,
 "nbformat_minor": 5
}
