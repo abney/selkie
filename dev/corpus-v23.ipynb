{
 "cells": [
  {
   "cell_type": "code",
   "execution_count": 1,
   "id": "05f629a7",
   "metadata": {},
   "outputs": [],
   "source": [
    "from os.path import expanduser\n",
    "fn = expanduser('~/git/cld/v23.lgc/corpus')"
   ]
  },
  {
   "cell_type": "code",
   "execution_count": 7,
   "id": "1dbfed80",
   "metadata": {},
   "outputs": [
    {
     "name": "stdout",
     "output_type": "stream",
     "text": [
      "langs :\r\n",
      "  :\r\n",
      "    id |deu\r\n",
      "    name |German\r\n",
      "    fn ./deu.lg/toc\r\n",
      "  :\r\n",
      "    id |fla\r\n",
      "    name |Montana Salish\r\n",
      "    fn ./fla.lg/toc\r\n",
      "  :\r\n",
      "    id |jje\r\n",
      "    name |Jejuo\r\n",
      "    fn ./jje.lg/toc\r\n",
      "  :\r\n",
      "    id |mar\r\n",
      "    name |Marathi\r\n",
      "    fn ./mar.lg/toc\r\n",
      "  :\r\n",
      "    id |oji\r\n",
      "    name |Anishinaabemowin (Ojibwe)\r\n",
      "    fn ./oji.lg/toc\r\n",
      "roms :\r\n",
      "  :\r\n",
      "    id |deu\r\n",
      "    fn ./roms/deu\r\n",
      "  :\r\n",
      "    id |salish\r\n",
      "    fn ./roms/salish\r\n",
      "  :\r\n",
      "    id |foo\r\n",
      "    fn ./roms/foo\r\n"
     ]
    }
   ],
   "source": [
    "cat $fn"
   ]
  },
  {
   "cell_type": "code",
   "execution_count": 5,
   "id": "c5edd360",
   "metadata": {},
   "outputs": [
    {
     "data": {
      "text/plain": [
       "{'langs': [{'id': 'deu',\n",
       "   'name': 'German',\n",
       "   'fn': PosixPath('/Users/abney/git/cld/v23.lgc/deu.lg/toc')},\n",
       "  {'id': 'fla',\n",
       "   'name': 'Montana Salish',\n",
       "   'fn': PosixPath('/Users/abney/git/cld/v23.lgc/fla.lg/toc')},\n",
       "  {'id': 'jje',\n",
       "   'name': 'Jejuo',\n",
       "   'fn': PosixPath('/Users/abney/git/cld/v23.lgc/jje.lg/toc')},\n",
       "  {'id': 'mar',\n",
       "   'name': 'Marathi',\n",
       "   'fn': PosixPath('/Users/abney/git/cld/v23.lgc/mar.lg/toc')},\n",
       "  {'id': 'oji',\n",
       "   'name': 'Anishinaabemowin (Ojibwe)',\n",
       "   'fn': PosixPath('/Users/abney/git/cld/v23.lgc/oji.lg/toc')}],\n",
       " 'roms': [{'id': 'deu',\n",
       "   'fn': PosixPath('/Users/abney/git/cld/v23.lgc/roms/deu')},\n",
       "  {'id': 'salish',\n",
       "   'fn': PosixPath('/Users/abney/git/cld/v23.lgc/roms/salish')},\n",
       "  {'id': 'foo', 'fn': PosixPath('/Users/abney/git/cld/v23.lgc/roms/foo')}]}"
      ]
     },
     "execution_count": 5,
     "metadata": {},
     "output_type": "execute_result"
    }
   ],
   "source": [
    "from selkie.io import load_kvi\n",
    "x = load_kvi(fn)\n",
    "x"
   ]
  },
  {
   "cell_type": "code",
   "execution_count": 8,
   "id": "aeba3703",
   "metadata": {},
   "outputs": [
    {
     "data": {
      "text/plain": [
       "<Language deu German>"
      ]
     },
     "execution_count": 8,
     "metadata": {},
     "output_type": "execute_result"
    }
   ],
   "source": [
    "from selkie.corpus import Language\n",
    "deu = Language.from_json(x['langs'][0])\n",
    "deu"
   ]
  },
  {
   "cell_type": "code",
   "execution_count": 7,
   "id": "6ef09a9d",
   "metadata": {},
   "outputs": [
    {
     "data": {
      "text/plain": [
       "'deu'"
      ]
     },
     "execution_count": 7,
     "metadata": {},
     "output_type": "execute_result"
    }
   ],
   "source": [
    "deu.langid()"
   ]
  },
  {
   "cell_type": "code",
   "execution_count": 8,
   "id": "08ce9e4a",
   "metadata": {},
   "outputs": [
    {
     "data": {
      "text/plain": [
       "'German'"
      ]
     },
     "execution_count": 8,
     "metadata": {},
     "output_type": "execute_result"
    }
   ],
   "source": [
    "deu.name()"
   ]
  },
  {
   "cell_type": "code",
   "execution_count": 9,
   "id": "cf226cf5",
   "metadata": {},
   "outputs": [
    {
     "data": {
      "text/plain": [
       "PosixPath('/Users/abney/git/cld/v23.lgc/deu.lg/toc')"
      ]
     },
     "execution_count": 9,
     "metadata": {},
     "output_type": "execute_result"
    }
   ],
   "source": [
    "deu.filename()"
   ]
  },
  {
   "cell_type": "code",
   "execution_count": 10,
   "id": "f3f83462",
   "metadata": {},
   "outputs": [],
   "source": [
    "from selkie.corpus import load_corpus\n",
    "corpus = load_corpus(fn)"
   ]
  },
  {
   "cell_type": "code",
   "execution_count": 11,
   "id": "d3571605",
   "metadata": {},
   "outputs": [
    {
     "data": {
      "text/plain": [
       "[<Language deu German>,\n",
       " <Language fla Montana Salish>,\n",
       " <Language jje Jejuo>,\n",
       " <Language mar Marathi>,\n",
       " <Language oji Anishinaabemowin (Ojibwe)>]"
      ]
     },
     "execution_count": 11,
     "metadata": {},
     "output_type": "execute_result"
    }
   ],
   "source": [
    "corpus._langs"
   ]
  },
  {
   "cell_type": "code",
   "execution_count": 13,
   "id": "2731f3ba",
   "metadata": {},
   "outputs": [
    {
     "data": {
      "text/plain": [
       "<Language jje Jejuo>"
      ]
     },
     "execution_count": 13,
     "metadata": {},
     "output_type": "execute_result"
    }
   ],
   "source": [
    "corpus.language('jje')"
   ]
  },
  {
   "cell_type": "code",
   "execution_count": null,
   "id": "e00a74e3",
   "metadata": {},
   "outputs": [],
   "source": []
  }
 ],
 "metadata": {
  "kernelspec": {
   "display_name": "Python 3 (ipykernel)",
   "language": "python",
   "name": "python3"
  },
  "language_info": {
   "codemirror_mode": {
    "name": "ipython",
    "version": 3
   },
   "file_extension": ".py",
   "mimetype": "text/x-python",
   "name": "python",
   "nbconvert_exporter": "python",
   "pygments_lexer": "ipython3",
   "version": "3.9.7"
  }
 },
 "nbformat": 4,
 "nbformat_minor": 5
}
