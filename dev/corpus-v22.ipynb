{
 "cells": [
  {
   "cell_type": "code",
   "execution_count": 1,
   "id": "2564bfb1",
   "metadata": {},
   "outputs": [
    {
     "data": {
      "text/plain": [
       "'/Users/abney/git/selkie/src/selkie/__init__.py'"
      ]
     },
     "execution_count": 1,
     "metadata": {},
     "output_type": "execute_result"
    }
   ],
   "source": [
    "import selkie\n",
    "selkie.__file__"
   ]
  },
  {
   "cell_type": "code",
   "execution_count": 2,
   "id": "06df8601",
   "metadata": {},
   "outputs": [],
   "source": [
    "from os.path import expanduser\n",
    "corpus_fn = expanduser('~/git/cld/v22.lgc')"
   ]
  },
  {
   "cell_type": "code",
   "execution_count": 3,
   "id": "f5aeb301",
   "metadata": {},
   "outputs": [
    {
     "data": {
      "text/plain": [
       "<Corpus /Users/abney/git/cld/v22.lgc>"
      ]
     },
     "execution_count": 3,
     "metadata": {},
     "output_type": "execute_result"
    }
   ],
   "source": [
    "from selkie.corpus import Corpus\n",
    "corpus = Corpus(corpus_fn)\n",
    "corpus"
   ]
  },
  {
   "cell_type": "code",
   "execution_count": 4,
   "id": "6a4b5dca",
   "metadata": {},
   "outputs": [
    {
     "data": {
      "text/plain": [
       "[<Language oji Anishinaabemowin (Ojibwe)>,\n",
       " <Language jje Jejuo>,\n",
       " <Language fla Montana Salish>,\n",
       " <Language mar Marathi>,\n",
       " <Language deu German>]"
      ]
     },
     "execution_count": 4,
     "metadata": {},
     "output_type": "execute_result"
    }
   ],
   "source": [
    "corpus._langs"
   ]
  },
  {
   "cell_type": "code",
   "execution_count": 5,
   "id": "bd76f6dc",
   "metadata": {},
   "outputs": [
    {
     "data": {
      "text/plain": [
       "{'oji': <Language oji Anishinaabemowin (Ojibwe)>,\n",
       " 'jje': <Language jje Jejuo>,\n",
       " 'fla': <Language fla Montana Salish>,\n",
       " 'mar': <Language mar Marathi>,\n",
       " 'deu': <Language deu German>}"
      ]
     },
     "execution_count": 5,
     "metadata": {},
     "output_type": "execute_result"
    }
   ],
   "source": [
    "corpus._index"
   ]
  },
  {
   "cell_type": "code",
   "execution_count": 6,
   "id": "069c3463",
   "metadata": {},
   "outputs": [
    {
     "data": {
      "text/plain": [
       "<Language oji Anishinaabemowin (Ojibwe)>"
      ]
     },
     "execution_count": 6,
     "metadata": {},
     "output_type": "execute_result"
    }
   ],
   "source": [
    "oji = corpus.language('oji')\n",
    "oji"
   ]
  },
  {
   "cell_type": "code",
   "execution_count": 7,
   "id": "968af523",
   "metadata": {},
   "outputs": [
    {
     "data": {
      "text/plain": [
       "selkie.corpus.TextList"
      ]
     },
     "execution_count": 7,
     "metadata": {},
     "output_type": "execute_result"
    }
   ],
   "source": [
    "texts = oji.texts()\n",
    "type(texts)"
   ]
  },
  {
   "cell_type": "code",
   "execution_count": 8,
   "id": "dc657326",
   "metadata": {},
   "outputs": [
    {
     "data": {
      "text/plain": [
       "52"
      ]
     },
     "execution_count": 8,
     "metadata": {},
     "output_type": "execute_result"
    }
   ],
   "source": [
    "len(texts)"
   ]
  },
  {
   "cell_type": "code",
   "execution_count": 9,
   "id": "72be870d",
   "metadata": {},
   "outputs": [
    {
     "data": {
      "text/plain": [
       "[<Text 1>, <Text 2>, <Text 3>, <Text 4>, <Text 5>]"
      ]
     },
     "execution_count": 9,
     "metadata": {},
     "output_type": "execute_result"
    }
   ],
   "source": [
    "texts[:5]"
   ]
  },
  {
   "cell_type": "code",
   "execution_count": 10,
   "id": "b6b474ed",
   "metadata": {},
   "outputs": [
    {
     "data": {
      "text/plain": [
       "'1'"
      ]
     },
     "execution_count": 10,
     "metadata": {},
     "output_type": "execute_result"
    }
   ],
   "source": [
    "texts[0].name()"
   ]
  },
  {
   "cell_type": "code",
   "execution_count": 11,
   "id": "0ac2c7c7",
   "metadata": {},
   "outputs": [
    {
     "data": {
      "text/plain": [
       "<Text 1>"
      ]
     },
     "execution_count": 11,
     "metadata": {},
     "output_type": "execute_result"
    }
   ],
   "source": [
    "texts['1']"
   ]
  },
  {
   "cell_type": "code",
   "execution_count": 12,
   "id": "649a6a54",
   "metadata": {},
   "outputs": [
    {
     "name": "stdout",
     "output_type": "stream",
     "text": [
      "Text 1\n",
      "  lang:        <Language oji Anishinaabemowin (Ojibwe)>\n",
      "  text_type:   book\n",
      "  author:      Howard Webkamigad\n",
      "  title:       Ottawa Stories from the Springs\n",
      "  orthography: default\n",
      "  filename:    \n",
      "  children:    [<Text 3>, <Text 4>, <Text 5>, <Text 10>]\n",
      "  #sentences:  0\n"
     ]
    }
   ],
   "source": [
    "text = oji.text('1')\n",
    "print(text)"
   ]
  },
  {
   "cell_type": "code",
   "execution_count": 13,
   "id": "ee2be092",
   "metadata": {},
   "outputs": [
    {
     "name": "stdout",
     "output_type": "stream",
     "text": [
      "Text 27\n",
      "  lang:        <Language oji Anishinaabemowin (Ojibwe)>\n",
      "  text_type:   audio\n",
      "  author:      William Jones; Alvin Ted Corbiere; Alan Corbiere; Lewis Debassige; Evelyn Roy\n",
      "  title:       Nenabosho Steals Fire (Manitoulin version)\n",
      "  orthography: \n",
      "  filename:    abney/otw-mchi-01-004.wav\n",
      "  children:    \n",
      "  #sentences:  4\n"
     ]
    }
   ],
   "source": [
    "print(texts[26])"
   ]
  },
  {
   "cell_type": "code",
   "execution_count": 14,
   "id": "39794b8f",
   "metadata": {},
   "outputs": [
    {
     "data": {
      "text/plain": [
       "[]"
      ]
     },
     "execution_count": 14,
     "metadata": {},
     "output_type": "execute_result"
    }
   ],
   "source": [
    "text.sentences()"
   ]
  },
  {
   "cell_type": "code",
   "execution_count": 15,
   "id": "4b7a72e2",
   "metadata": {},
   "outputs": [
    {
     "name": "stdout",
     "output_type": "stream",
     "text": [
      "Text 1\n",
      "  lang:        <Language oji Anishinaabemowin (Ojibwe)>\n",
      "  text_type:   book\n",
      "  author:      Howard Webkamigad\n",
      "  title:       Ottawa Stories from the Springs\n",
      "  orthography: default\n",
      "  filename:    \n",
      "  children:    [<Text 3>, <Text 4>, <Text 5>, <Text 10>]\n",
      "  #sentences:  0\n"
     ]
    }
   ],
   "source": [
    "print(oji.text('1'))"
   ]
  },
  {
   "cell_type": "code",
   "execution_count": 16,
   "id": "5d7851e8",
   "metadata": {},
   "outputs": [
    {
     "name": "stdout",
     "output_type": "stream",
     "text": [
      "Text 2\n",
      "  lang:        <Language oji Anishinaabemowin (Ojibwe)>\n",
      "  text_type:   page\n",
      "  author:      Howard Webkamigad\n",
      "  title:       Introduction\n",
      "  orthography: \n",
      "  filename:    \n",
      "  children:    \n",
      "  #sentences:  1\n"
     ]
    }
   ],
   "source": [
    "print(oji.text('2'))"
   ]
  },
  {
   "cell_type": "code",
   "execution_count": 17,
   "id": "fc45c75d",
   "metadata": {},
   "outputs": [
    {
     "data": {
      "text/plain": [
       "<S ginimaa.0 gonaa.0 wiya.0 daa.0 yaa.0 ge.0 nisastawit.0>"
      ]
     },
     "execution_count": 17,
     "metadata": {},
     "output_type": "execute_result"
    }
   ],
   "source": [
    "text = oji.text('2')\n",
    "sents = text.sentences()\n",
    "sents[0]"
   ]
  },
  {
   "cell_type": "code",
   "execution_count": 18,
   "id": "c0e75392",
   "metadata": {},
   "outputs": [
    {
     "data": {
      "text/plain": [
       "[<Lexent ginimaa.0>,\n",
       " <Lexent gonaa.0>,\n",
       " <Lexent wiya.0>,\n",
       " <Lexent daa.0>,\n",
       " <Lexent yaa.0>,\n",
       " <Lexent ge.0>,\n",
       " <Lexent nisastawit.0>]"
      ]
     },
     "execution_count": 18,
     "metadata": {},
     "output_type": "execute_result"
    }
   ],
   "source": [
    "sents[0].words()"
   ]
  },
  {
   "cell_type": "markdown",
   "id": "30b5fc4b",
   "metadata": {},
   "source": [
    "# REST interface"
   ]
  },
  {
   "cell_type": "code",
   "execution_count": 19,
   "id": "8920d5ee",
   "metadata": {},
   "outputs": [
    {
     "data": {
      "text/plain": [
       "{'textid': '2',\n",
       " 'text_type': 'page',\n",
       " 'author': 'Howard Webkamigad',\n",
       " 'title': 'Introduction',\n",
       " 'orthography': None,\n",
       " 'filename': None,\n",
       " 'children': []}"
      ]
     },
     "execution_count": 19,
     "metadata": {},
     "output_type": "execute_result"
    }
   ],
   "source": [
    "text.metadata()"
   ]
  },
  {
   "cell_type": "code",
   "execution_count": 20,
   "id": "14652cbc",
   "metadata": {},
   "outputs": [],
   "source": [
    "from selkie.corpus import JsonCorpus\n",
    "corpus = JsonCorpus(corpus_fn)"
   ]
  },
  {
   "cell_type": "code",
   "execution_count": 21,
   "id": "029a5ef5",
   "metadata": {},
   "outputs": [
    {
     "data": {
      "text/plain": [
       "[{'textid': '1',\n",
       "  'text_type': 'book',\n",
       "  'author': 'Howard Webkamigad',\n",
       "  'title': 'Ottawa Stories from the Springs',\n",
       "  'orthography': 'default',\n",
       "  'filename': None,\n",
       "  'children': ['3', '4', '5', '10']},\n",
       " {'textid': '2',\n",
       "  'text_type': 'page',\n",
       "  'author': 'Howard Webkamigad',\n",
       "  'title': 'Introduction',\n",
       "  'orthography': None,\n",
       "  'filename': None,\n",
       "  'children': []},\n",
       " {'textid': '3',\n",
       "  'text_type': 'page',\n",
       "  'author': 'Howard Webkamigad',\n",
       "  'title': 'Nenibozhoo and the Ducks  (Condensed Version)',\n",
       "  'orthography': 'default',\n",
       "  'filename': None,\n",
       "  'children': []},\n",
       " {'textid': '4',\n",
       "  'text_type': 'chapter',\n",
       "  'author': 'Howard Webkamigad',\n",
       "  'title': 'The Man Who Caught the White Eagle',\n",
       "  'orthography': None,\n",
       "  'filename': None,\n",
       "  'children': ['6', '7', '8', '9']},\n",
       " {'textid': '5',\n",
       "  'text_type': 'page',\n",
       "  'author': 'Howard Webkamigad',\n",
       "  'title': 'The Man Who Caught the White Eagle pp.160-163',\n",
       "  'orthography': None,\n",
       "  'filename': None,\n",
       "  'children': []},\n",
       " {'textid': '6',\n",
       "  'text_type': 'page',\n",
       "  'author': 'Howard Webkamigad',\n",
       "  'title': 'The Man Who Caught the White Eagle pp.164-165',\n",
       "  'orthography': None,\n",
       "  'filename': None,\n",
       "  'children': []},\n",
       " {'textid': '7',\n",
       "  'text_type': 'page',\n",
       "  'author': 'Howard Webkamigad',\n",
       "  'title': 'The Man Who Caught the White Eagle, pp. 166-167',\n",
       "  'orthography': None,\n",
       "  'filename': None,\n",
       "  'children': []},\n",
       " {'textid': '8',\n",
       "  'text_type': 'page',\n",
       "  'author': None,\n",
       "  'title': None,\n",
       "  'orthography': None,\n",
       "  'filename': None,\n",
       "  'children': []},\n",
       " {'textid': '9',\n",
       "  'text_type': 'page',\n",
       "  'author': 'Howard Webkamigad',\n",
       "  'title': 'When Nenibozhoo Killed a Bear',\n",
       "  'orthography': None,\n",
       "  'filename': None,\n",
       "  'children': []},\n",
       " {'textid': '10',\n",
       "  'text_type': 'collection',\n",
       "  'author': 'Alphonse Pitawanakwat',\n",
       "  'title': 'Pitawanakwat Lessons',\n",
       "  'orthography': None,\n",
       "  'filename': None,\n",
       "  'children': ['12', '13', '14', '15', '16', '17', '18']},\n",
       " {'textid': '11',\n",
       "  'text_type': 'page',\n",
       "  'author': None,\n",
       "  'title': None,\n",
       "  'orthography': None,\n",
       "  'filename': None,\n",
       "  'children': []},\n",
       " {'textid': '12',\n",
       "  'text_type': 'page',\n",
       "  'author': None,\n",
       "  'title': None,\n",
       "  'orthography': None,\n",
       "  'filename': None,\n",
       "  'children': []},\n",
       " {'textid': '13',\n",
       "  'text_type': 'page',\n",
       "  'author': None,\n",
       "  'title': None,\n",
       "  'orthography': None,\n",
       "  'filename': None,\n",
       "  'children': []},\n",
       " {'textid': '14',\n",
       "  'text_type': 'page',\n",
       "  'author': None,\n",
       "  'title': None,\n",
       "  'orthography': None,\n",
       "  'filename': None,\n",
       "  'children': []},\n",
       " {'textid': '15',\n",
       "  'text_type': 'page',\n",
       "  'author': None,\n",
       "  'title': None,\n",
       "  'orthography': None,\n",
       "  'filename': None,\n",
       "  'children': []},\n",
       " {'textid': '16',\n",
       "  'text_type': 'page',\n",
       "  'author': None,\n",
       "  'title': None,\n",
       "  'orthography': None,\n",
       "  'filename': None,\n",
       "  'children': []},\n",
       " {'textid': '17',\n",
       "  'text_type': 'page',\n",
       "  'author': None,\n",
       "  'title': None,\n",
       "  'orthography': None,\n",
       "  'filename': None,\n",
       "  'children': []},\n",
       " {'textid': '18',\n",
       "  'text_type': 'collection',\n",
       "  'author': 'Maganit Noodin',\n",
       "  'title': 'Noodin Lessons',\n",
       "  'orthography': None,\n",
       "  'filename': None,\n",
       "  'children': ['20', '21']},\n",
       " {'textid': '19',\n",
       "  'text_type': 'page',\n",
       "  'author': None,\n",
       "  'title': None,\n",
       "  'orthography': None,\n",
       "  'filename': None,\n",
       "  'children': []},\n",
       " {'textid': '20',\n",
       "  'text_type': 'page',\n",
       "  'author': None,\n",
       "  'title': None,\n",
       "  'orthography': None,\n",
       "  'filename': None,\n",
       "  'children': []},\n",
       " {'textid': '21',\n",
       "  'text_type': 'book',\n",
       "  'author': 'Patricia M. Ningewance',\n",
       "  'title': 'Survival Ojibwe',\n",
       "  'orthography': None,\n",
       "  'filename': None,\n",
       "  'children': ['23', '24']},\n",
       " {'textid': '22',\n",
       "  'text_type': 'page',\n",
       "  'author': None,\n",
       "  'title': 'Lesson 1',\n",
       "  'orthography': None,\n",
       "  'filename': None,\n",
       "  'children': []},\n",
       " {'textid': '23',\n",
       "  'text_type': 'page',\n",
       "  'author': None,\n",
       "  'title': 'Lesson 2',\n",
       "  'orthography': None,\n",
       "  'filename': None,\n",
       "  'children': []},\n",
       " {'textid': '24',\n",
       "  'text_type': 'audio',\n",
       "  'author': 'Alphonse Pitawanakwat',\n",
       "  'title': 'Little People',\n",
       "  'orthography': None,\n",
       "  'filename': 'abney/34.mp3',\n",
       "  'children': []},\n",
       " {'textid': '25',\n",
       "  'text_type': None,\n",
       "  'author': None,\n",
       "  'title': None,\n",
       "  'orthography': None,\n",
       "  'filename': None,\n",
       "  'children': []},\n",
       " {'textid': '26',\n",
       "  'text_type': 'page',\n",
       "  'author': 'William Jones ',\n",
       "  'title': 'The Birth of Nanabush - Classic Version',\n",
       "  'orthography': None,\n",
       "  'filename': None,\n",
       "  'children': []},\n",
       " {'textid': '27',\n",
       "  'text_type': 'audio',\n",
       "  'author': 'William Jones; Alvin Ted Corbiere; Alan Corbiere; Lewis Debassige; Evelyn Roy',\n",
       "  'title': 'Nenabosho Steals Fire (Manitoulin version)',\n",
       "  'orthography': None,\n",
       "  'filename': 'abney/otw-mchi-01-004.wav',\n",
       "  'children': []},\n",
       " {'textid': '28',\n",
       "  'text_type': 'video',\n",
       "  'author': None,\n",
       "  'title': 'Pane Immersion, BMCC-01-010, sample',\n",
       "  'orthography': None,\n",
       "  'filename': 'abney/otw-bmcc-01-010-sample.mp4',\n",
       "  'children': []},\n",
       " {'textid': '29',\n",
       "  'text_type': 'collection',\n",
       "  'author': None,\n",
       "  'title': 'Ling 492',\n",
       "  'orthography': None,\n",
       "  'filename': None,\n",
       "  'children': ['31']},\n",
       " {'textid': '30',\n",
       "  'text_type': None,\n",
       "  'author': None,\n",
       "  'title': None,\n",
       "  'orthography': None,\n",
       "  'filename': 'abney/37.mp3',\n",
       "  'children': []},\n",
       " {'textid': '31',\n",
       "  'text_type': 'collection',\n",
       "  'author': None,\n",
       "  'title': 'Ojibwe.Net',\n",
       "  'orthography': None,\n",
       "  'filename': None,\n",
       "  'children': ['33']},\n",
       " {'textid': '32',\n",
       "  'text_type': 'collection',\n",
       "  'author': None,\n",
       "  'title': 'Lessons',\n",
       "  'orthography': None,\n",
       "  'filename': None,\n",
       "  'children': ['34',\n",
       "   '35',\n",
       "   '37',\n",
       "   '38',\n",
       "   '39',\n",
       "   '40',\n",
       "   '41',\n",
       "   '42',\n",
       "   '43',\n",
       "   '44',\n",
       "   '45',\n",
       "   '46',\n",
       "   '47',\n",
       "   '48',\n",
       "   '49',\n",
       "   '50',\n",
       "   '51']},\n",
       " {'textid': '33',\n",
       "  'text_type': 'page',\n",
       "  'author': 'Maaganit Noodin',\n",
       "  'title': 'Overview',\n",
       "  'orthography': None,\n",
       "  'filename': None,\n",
       "  'children': []},\n",
       " {'textid': '34',\n",
       "  'text_type': 'page',\n",
       "  'author': None,\n",
       "  'title': 'Gidinwewininaan / The Sound of Our Language',\n",
       "  'orthography': None,\n",
       "  'filename': None,\n",
       "  'children': []},\n",
       " {'textid': '35',\n",
       "  'text_type': None,\n",
       "  'author': None,\n",
       "  'title': None,\n",
       "  'orthography': None,\n",
       "  'filename': None,\n",
       "  'children': []},\n",
       " {'textid': '36',\n",
       "  'text_type': None,\n",
       "  'author': None,\n",
       "  'title': 'Introductions',\n",
       "  'orthography': None,\n",
       "  'filename': None,\n",
       "  'children': []},\n",
       " {'textid': '37',\n",
       "  'text_type': 'page',\n",
       "  'author': None,\n",
       "  'title': 'Ikidowansan ge Aabjikaazying Kinomaagegamigong / Words to Use in Class',\n",
       "  'orthography': None,\n",
       "  'filename': None,\n",
       "  'children': []},\n",
       " {'textid': '38',\n",
       "  'text_type': 'page',\n",
       "  'author': None,\n",
       "  'title': 'Introduction to Verbs & Pronouns',\n",
       "  'orthography': None,\n",
       "  'filename': None,\n",
       "  'children': []},\n",
       " {'textid': '39',\n",
       "  'text_type': 'page',\n",
       "  'author': 'Sean Kennedy',\n",
       "  'title': 'Verb Type I - What Happens',\n",
       "  'orthography': None,\n",
       "  'filename': None,\n",
       "  'children': []},\n",
       " {'textid': '40',\n",
       "  'text_type': 'page',\n",
       "  'author': None,\n",
       "  'title': 'Verb Type I - Not Happening',\n",
       "  'orthography': None,\n",
       "  'filename': None,\n",
       "  'children': []},\n",
       " {'textid': '41',\n",
       "  'text_type': 'page',\n",
       "  'author': None,\n",
       "  'title': 'Verb Type I - Second Endings',\n",
       "  'orthography': None,\n",
       "  'filename': None,\n",
       "  'children': []},\n",
       " {'textid': '42',\n",
       "  'text_type': 'page',\n",
       "  'author': None,\n",
       "  'title': 'Verb Type 2 - Doing Something',\n",
       "  'orthography': None,\n",
       "  'filename': None,\n",
       "  'children': []},\n",
       " {'textid': '43',\n",
       "  'text_type': 'page',\n",
       "  'author': None,\n",
       "  'title': 'To Be: Aawi Miinawaa Ayaa',\n",
       "  'orthography': None,\n",
       "  'filename': None,\n",
       "  'children': []},\n",
       " {'textid': '44',\n",
       "  'text_type': 'page',\n",
       "  'author': None,\n",
       "  'title': 'Colors',\n",
       "  'orthography': None,\n",
       "  'filename': None,\n",
       "  'children': []},\n",
       " {'textid': '45',\n",
       "  'text_type': 'page',\n",
       "  'author': None,\n",
       "  'title': 'Weather',\n",
       "  'orthography': None,\n",
       "  'filename': None,\n",
       "  'children': []},\n",
       " {'textid': '46',\n",
       "  'text_type': 'page',\n",
       "  'author': None,\n",
       "  'title': 'Anjisewigiizhigad / Change-Day (Election Time)',\n",
       "  'orthography': None,\n",
       "  'filename': None,\n",
       "  'children': []},\n",
       " {'textid': '47',\n",
       "  'text_type': 'page',\n",
       "  'author': None,\n",
       "  'title': \"Veteran's Day\",\n",
       "  'orthography': None,\n",
       "  'filename': None,\n",
       "  'children': []},\n",
       " {'textid': '48',\n",
       "  'text_type': 'page',\n",
       "  'author': 'Leonard Kimewon',\n",
       "  'title': 'Puppies for Sale',\n",
       "  'orthography': None,\n",
       "  'filename': None,\n",
       "  'children': []},\n",
       " {'textid': '49',\n",
       "  'text_type': 'page',\n",
       "  'author': 'Leonard Kimewon',\n",
       "  'title': 'Three Old Men',\n",
       "  'orthography': None,\n",
       "  'filename': None,\n",
       "  'children': []},\n",
       " {'textid': '50',\n",
       "  'text_type': 'page',\n",
       "  'author': 'Leonard Kimewon',\n",
       "  'title': 'Two Little Boys',\n",
       "  'orthography': None,\n",
       "  'filename': None,\n",
       "  'children': []},\n",
       " {'textid': '51',\n",
       "  'text_type': 'collection',\n",
       "  'author': None,\n",
       "  'title': 'Public',\n",
       "  'orthography': None,\n",
       "  'filename': None,\n",
       "  'children': []},\n",
       " {'textid': '52',\n",
       "  'text_type': 'collection',\n",
       "  'author': None,\n",
       "  'title': 'Development',\n",
       "  'orthography': None,\n",
       "  'filename': None,\n",
       "  'children': ['2', '22', '25', '27', '28', '29', '32', '11', '19', '30']}]"
      ]
     },
     "execution_count": 21,
     "metadata": {},
     "output_type": "execute_result"
    }
   ],
   "source": [
    "corpus['/toc/oji']"
   ]
  },
  {
   "cell_type": "code",
   "execution_count": 22,
   "id": "aa971777",
   "metadata": {},
   "outputs": [
    {
     "name": "stdout",
     "output_type": "stream",
     "text": [
      "[\tS\n",
      "[\tNP\n",
      "+\tDet\tthe\n",
      "+\tN\tcat\n",
      "]\n",
      "[\tVP\n",
      "+\tV\tchased\n",
      "[\tNP\n",
      "+\tDet\tthe\n",
      "+\tN\tdog\n",
      "]\n",
      "]\n",
      "]\n",
      "\n"
     ]
    }
   ],
   "source": [
    "from selkie.data import path\n",
    "with path('examples/t1') as fn:\n",
    "    with open(fn) as f:\n",
    "        print(f.read())"
   ]
  },
  {
   "cell_type": "code",
   "execution_count": 23,
   "id": "d4ded7d4",
   "metadata": {},
   "outputs": [
    {
     "data": {
      "text/plain": [
       "{'textid': '52',\n",
       " 'text_type': 'collection',\n",
       " 'author': None,\n",
       " 'title': 'Development',\n",
       " 'orthography': None,\n",
       " 'filename': None,\n",
       " 'children': ['2', '22', '25', '27', '28', '29', '32', '11', '19', '30']}"
      ]
     },
     "execution_count": 23,
     "metadata": {},
     "output_type": "execute_result"
    }
   ],
   "source": [
    "corpus['/toc/oji/52']"
   ]
  },
  {
   "cell_type": "code",
   "execution_count": 24,
   "id": "350395f2",
   "metadata": {},
   "outputs": [
    {
     "data": {
      "text/plain": [
       "{'get': '/toc/oji'}"
      ]
     },
     "execution_count": 24,
     "metadata": {},
     "output_type": "execute_result"
    }
   ],
   "source": [
    "import json\n",
    "req = json.loads('{\"get\": \"/toc/oji\"}')\n",
    "req"
   ]
  },
  {
   "cell_type": "code",
   "execution_count": 25,
   "id": "78270434",
   "metadata": {},
   "outputs": [
    {
     "data": {
      "text/plain": [
       "{'langs': [{'langid': 'oji', 'name': 'Anishinaabemowin (Ojibwe)'},\n",
       "  {'langid': 'jje', 'name': 'Jejuo'},\n",
       "  {'langid': 'fla', 'name': 'Montana Salish'},\n",
       "  {'langid': 'mar', 'name': 'Marathi'},\n",
       "  {'langid': 'deu', 'name': 'German'}]}"
      ]
     },
     "execution_count": 25,
     "metadata": {},
     "output_type": "execute_result"
    }
   ],
   "source": [
    "corpus['/langs']"
   ]
  },
  {
   "cell_type": "code",
   "execution_count": 26,
   "id": "b3b46b02",
   "metadata": {},
   "outputs": [
    {
     "ename": "KeyError",
     "evalue": "'URI not found: /lang/oji'",
     "output_type": "error",
     "traceback": [
      "\u001b[0;31m---------------------------------------------------------------------------\u001b[0m",
      "\u001b[0;31mKeyError\u001b[0m                                  Traceback (most recent call last)",
      "Input \u001b[0;32mIn [26]\u001b[0m, in \u001b[0;36m<module>\u001b[0;34m\u001b[0m\n\u001b[0;32m----> 1\u001b[0m \u001b[43mcorpus\u001b[49m\u001b[43m[\u001b[49m\u001b[38;5;124;43m'\u001b[39;49m\u001b[38;5;124;43m/lang/oji\u001b[39;49m\u001b[38;5;124;43m'\u001b[39;49m\u001b[43m]\u001b[49m\n",
      "File \u001b[0;32m~/git/selkie/src/selkie/corpus.py:910\u001b[0m, in \u001b[0;36mJsonCorpus.__getitem__\u001b[0;34m(self, uri)\u001b[0m\n\u001b[1;32m    908\u001b[0m     \u001b[38;5;28;01mreturn\u001b[39;00m \u001b[38;5;28mgetattr\u001b[39m(\u001b[38;5;28mself\u001b[39m, method)(\u001b[38;5;241m*\u001b[39mfields[\u001b[38;5;241m2\u001b[39m:])\n\u001b[1;32m    909\u001b[0m \u001b[38;5;28;01melse\u001b[39;00m:\n\u001b[0;32m--> 910\u001b[0m     \u001b[38;5;28;01mraise\u001b[39;00m \u001b[38;5;167;01mKeyError\u001b[39;00m(\u001b[38;5;124mf\u001b[39m\u001b[38;5;124m'\u001b[39m\u001b[38;5;124mURI not found: \u001b[39m\u001b[38;5;132;01m{\u001b[39;00muri\u001b[38;5;132;01m}\u001b[39;00m\u001b[38;5;124m'\u001b[39m)\n",
      "\u001b[0;31mKeyError\u001b[0m: 'URI not found: /lang/oji'"
     ]
    }
   ],
   "source": [
    "corpus['/lang/oji']"
   ]
  },
  {
   "cell_type": "code",
   "execution_count": null,
   "id": "5ebc686f",
   "metadata": {},
   "outputs": [],
   "source": [
    "e = KeyError('File not found')\n",
    "str(e)"
   ]
  },
  {
   "cell_type": "code",
   "execution_count": null,
   "id": "23ab5cd2",
   "metadata": {},
   "outputs": [],
   "source": [
    "import json\n",
    "json.dumps({'value': str(e)})"
   ]
  },
  {
   "cell_type": "code",
   "execution_count": null,
   "id": "d7fb27d0",
   "metadata": {},
   "outputs": [],
   "source": []
  }
 ],
 "metadata": {
  "kernelspec": {
   "display_name": "Python 3 (ipykernel)",
   "language": "python",
   "name": "python3"
  },
  "language_info": {
   "codemirror_mode": {
    "name": "ipython",
    "version": 3
   },
   "file_extension": ".py",
   "mimetype": "text/x-python",
   "name": "python",
   "nbconvert_exporter": "python",
   "pygments_lexer": "ipython3",
   "version": "3.9.7"
  }
 },
 "nbformat": 4,
 "nbformat_minor": 5
}
