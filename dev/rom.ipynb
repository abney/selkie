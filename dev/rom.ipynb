{
 "cells": [
  {
   "cell_type": "code",
   "execution_count": 1,
   "id": "4151350d",
   "metadata": {},
   "outputs": [
    {
     "data": {
      "text/plain": [
       "'ča'"
      ]
     },
     "execution_count": 1,
     "metadata": {},
     "output_type": "execute_result"
    }
   ],
   "source": [
    "import selkie.rom\n",
    "b'c*a'.decode('salish')"
   ]
  },
  {
   "cell_type": "code",
   "execution_count": 2,
   "id": "93f05f94",
   "metadata": {},
   "outputs": [
    {
     "data": {
      "text/plain": [
       "<codecs.CodecInfo object for encoding salish at 0x7fb030845c40>"
      ]
     },
     "execution_count": 2,
     "metadata": {},
     "output_type": "execute_result"
    }
   ],
   "source": [
    "from selkie.rom import find_codec\n",
    "find_codec('salish')"
   ]
  },
  {
   "cell_type": "code",
   "execution_count": 3,
   "id": "c2418129",
   "metadata": {},
   "outputs": [
    {
     "data": {
      "text/plain": [
       "<selkie.rom.Romanization at 0x7fb0308bd1f0>"
      ]
     },
     "execution_count": 3,
     "metadata": {},
     "output_type": "execute_result"
    }
   ],
   "source": [
    "from selkie.rom import default_registry\n",
    "default_registry.get('salish')"
   ]
  },
  {
   "cell_type": "code",
   "execution_count": 4,
   "id": "d5f5a9ca",
   "metadata": {},
   "outputs": [
    {
     "data": {
      "text/plain": [
       "<_Path /Users/abney/opt/anaconda3/lib/python3.9/site-packages/selkie/data/selkie>"
      ]
     },
     "execution_count": 4,
     "metadata": {},
     "output_type": "execute_result"
    }
   ],
   "source": [
    "default_registry.dir"
   ]
  },
  {
   "cell_type": "code",
   "execution_count": null,
   "id": "33900f4e",
   "metadata": {},
   "outputs": [],
   "source": []
  }
 ],
 "metadata": {
  "kernelspec": {
   "display_name": "Python 3 (ipykernel)",
   "language": "python",
   "name": "python3"
  },
  "language_info": {
   "codemirror_mode": {
    "name": "ipython",
    "version": 3
   },
   "file_extension": ".py",
   "mimetype": "text/x-python",
   "name": "python",
   "nbconvert_exporter": "python",
   "pygments_lexer": "ipython3",
   "version": "3.9.7"
  }
 },
 "nbformat": 4,
 "nbformat_minor": 5
}
