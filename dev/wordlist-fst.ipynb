{
 "cells": [
  {
   "cell_type": "markdown",
   "id": "e9c84a4a",
   "metadata": {},
   "source": [
    "# Preliminary"
   ]
  },
  {
   "cell_type": "code",
   "execution_count": 1,
   "id": "89b4ab22",
   "metadata": {},
   "outputs": [],
   "source": [
    "words = ['this', 'the', 'these', 'to', 'toe', 'cat']"
   ]
  },
  {
   "cell_type": "code",
   "execution_count": 2,
   "id": "633f2218",
   "metadata": {},
   "outputs": [],
   "source": [
    "from selkie.fst import Fst\n",
    "fst = Fst()"
   ]
  },
  {
   "cell_type": "code",
   "execution_count": 3,
   "id": "62131a7b",
   "metadata": {},
   "outputs": [
    {
     "data": {
      "text/plain": [
       "<Edge 4 1 s this>"
      ]
     },
     "execution_count": 3,
     "metadata": {},
     "output_type": "execute_result"
    }
   ],
   "source": [
    "fst.edge(0, 2, 't')\n",
    "fst.edge(2, 3, 'h')\n",
    "fst.edge(3, 4, 'i')\n",
    "fst.edge(4, 1, 's', 'this')"
   ]
  },
  {
   "cell_type": "code",
   "execution_count": 4,
   "id": "539cc863",
   "metadata": {},
   "outputs": [
    {
     "name": "stdout",
     "output_type": "stream",
     "text": [
      "Fst:\n",
      "  ->0  [0]\n",
      "    1  [2]\n",
      "    2  [3]\n",
      "    3  [4]\n",
      "    4  [1]\n",
      "    0 1 t :\n",
      "    1 2 h :\n",
      "    2 3 i :\n",
      "    3 4 s : this\n"
     ]
    }
   ],
   "source": [
    "fst.dump()"
   ]
  },
  {
   "cell_type": "code",
   "execution_count": 5,
   "id": "a0f03c26",
   "metadata": {},
   "outputs": [
    {
     "data": {
      "text/plain": [
       "[<Edge 0 2 t None>]"
      ]
     },
     "execution_count": 5,
     "metadata": {},
     "output_type": "execute_result"
    }
   ],
   "source": [
    "q = fst.start\n",
    "q['t']"
   ]
  },
  {
   "cell_type": "code",
   "execution_count": 6,
   "id": "6722bd8e",
   "metadata": {},
   "outputs": [
    {
     "data": {
      "text/plain": [
       "(<State 2 [1]>, 't', None)"
      ]
     },
     "execution_count": 6,
     "metadata": {},
     "output_type": "execute_result"
    }
   ],
   "source": [
    "e = q['t'][0]\n",
    "(e.dest, e.inlabel, e.outlabel)"
   ]
  },
  {
   "cell_type": "code",
   "execution_count": 7,
   "id": "99301579",
   "metadata": {},
   "outputs": [
    {
     "data": {
      "text/plain": [
       "[]"
      ]
     },
     "execution_count": 7,
     "metadata": {},
     "output_type": "execute_result"
    }
   ],
   "source": [
    "q['c']"
   ]
  },
  {
   "cell_type": "code",
   "execution_count": 8,
   "id": "ff1ec031",
   "metadata": {},
   "outputs": [
    {
     "data": {
      "text/plain": [
       "5"
      ]
     },
     "execution_count": 8,
     "metadata": {},
     "output_type": "execute_result"
    }
   ],
   "source": [
    "len(fst)"
   ]
  },
  {
   "cell_type": "markdown",
   "id": "17a6cbb9",
   "metadata": {},
   "source": [
    "# The advance() function"
   ]
  },
  {
   "cell_type": "code",
   "execution_count": 9,
   "id": "8659f871",
   "metadata": {},
   "outputs": [],
   "source": [
    "def advance (fst, q, i):\n",
    "    edges = q[i]\n",
    "    if len(edges) == 0:\n",
    "        r = len(fst)\n",
    "        print('create edge', q, r, i)\n",
    "        return fst.edge(q, r, i)\n",
    "    elif len(edges) == 1:\n",
    "        return edges[0]\n",
    "    else:\n",
    "        raise Exception(f'Non-deterministic state: {q} {i}')"
   ]
  },
  {
   "cell_type": "code",
   "execution_count": 10,
   "id": "94eb98c1",
   "metadata": {},
   "outputs": [
    {
     "name": "stdout",
     "output_type": "stream",
     "text": [
      "create edge 3 5 e\n",
      "Fst:\n",
      "  ->0  [0]\n",
      "    1  [2]\n",
      "    2  [3]\n",
      "    3  [4]\n",
      "    4  [1]\n",
      "    5  [5]\n",
      "    0 1 t :\n",
      "    1 2 h :\n",
      "    2 3 i :\n",
      "    2 5 e : the\n",
      "    3 4 s : this\n"
     ]
    }
   ],
   "source": [
    "q = fst.start\n",
    "e = advance(fst, q, 't')\n",
    "q = e.dest\n",
    "e = advance(fst, q, 'h')\n",
    "q = e.dest\n",
    "e = advance(fst, q, 'e')\n",
    "e.outlabel = 'the'\n",
    "fst.dump()"
   ]
  },
  {
   "cell_type": "markdown",
   "id": "621d0745",
   "metadata": {},
   "source": [
    "# The convert() function"
   ]
  },
  {
   "cell_type": "code",
   "execution_count": 11,
   "id": "3ac91ee4",
   "metadata": {},
   "outputs": [],
   "source": [
    "def convert (wordlist):\n",
    "    fst = Fst()\n",
    "    fst.start = start = fst.state(0)\n",
    "    for word in wordlist:\n",
    "        q = start\n",
    "        for c in word:\n",
    "            e = advance(fst, q, c)\n",
    "            q = e.dest\n",
    "        if e.outlabel and e.outlabel != word:\n",
    "            raise Exception(f'Attempt to change output word: {e.source} {i} {word}, was {e.outlabel}')\n",
    "        e.outlabel = word\n",
    "        fst.final_state(q)\n",
    "    return fst"
   ]
  },
  {
   "cell_type": "code",
   "execution_count": 12,
   "id": "f86ae08c",
   "metadata": {},
   "outputs": [
    {
     "name": "stdout",
     "output_type": "stream",
     "text": [
      "create edge 0 1 t\n",
      "create edge 1 2 h\n",
      "create edge 2 3 i\n",
      "create edge 3 4 s\n",
      "create edge 2 5 e\n",
      "create edge 5 6 s\n",
      "create edge 6 7 e\n",
      "create edge 1 8 o\n",
      "create edge 8 9 e\n",
      "create edge 0 10 c\n",
      "create edge 10 11 a\n",
      "create edge 11 12 t\n",
      "Fst:\n",
      "  ->0  [0]\n",
      "    1  [1]\n",
      "    2  [2]\n",
      "    3  [3]\n",
      "    4# [4]\n",
      "    5# [5]\n",
      "    6  [6]\n",
      "    7# [7]\n",
      "    8# [8]\n",
      "    9# [9]\n",
      "    10  [10]\n",
      "    11  [11]\n",
      "    12# [12]\n",
      "    0 1 t :\n",
      "    0 10 c :\n",
      "    1 2 h :\n",
      "    1 8 o : to\n",
      "    2 3 i :\n",
      "    2 5 e : the\n",
      "    3 4 s : this\n",
      "    5 6 s :\n",
      "    6 7 e : these\n",
      "    8 9 e : toe\n",
      "    10 11 a :\n",
      "    11 12 t : cat\n"
     ]
    }
   ],
   "source": [
    "fst = convert(words)\n",
    "fst.dump()"
   ]
  },
  {
   "cell_type": "code",
   "execution_count": 13,
   "id": "4f8305ec",
   "metadata": {},
   "outputs": [
    {
     "data": {
      "text/plain": [
       "[(['c', 'a', 't'], ['cat']),\n",
       " (['t', 'o'], ['to']),\n",
       " (['t', 'o', 'e'], ['to', 'toe']),\n",
       " (['t', 'h', 'e'], ['the']),\n",
       " (['t', 'h', 'e', 's', 'e'], ['the', 'these']),\n",
       " (['t', 'h', 'i', 's'], ['this'])]"
      ]
     },
     "execution_count": 13,
     "metadata": {},
     "output_type": "execute_result"
    }
   ],
   "source": [
    "list(fst)"
   ]
  },
  {
   "cell_type": "markdown",
   "id": "af6e0efd",
   "metadata": {},
   "source": [
    "# fst_from_list()"
   ]
  },
  {
   "cell_type": "code",
   "execution_count": 14,
   "id": "7cd387ba",
   "metadata": {},
   "outputs": [
    {
     "name": "stdout",
     "output_type": "stream",
     "text": [
      "Fst:\n",
      "  ->0  [0]\n",
      "    1  [1]\n",
      "    2  [2]\n",
      "    3  [3]\n",
      "    4# [4]\n",
      "    5# [5]\n",
      "    6  [6]\n",
      "    7# [7]\n",
      "    8# [8]\n",
      "    9# [9]\n",
      "    10  [10]\n",
      "    11  [11]\n",
      "    12# [12]\n",
      "    0 1 t :\n",
      "    0 10 c :\n",
      "    1 2 h :\n",
      "    1 8 o : to\n",
      "    2 3 i :\n",
      "    2 5 e : the\n",
      "    3 4 s : this\n",
      "    5 6 s :\n",
      "    6 7 e : these\n",
      "    8 9 e : toe\n",
      "    10 11 a :\n",
      "    11 12 t : cat\n"
     ]
    }
   ],
   "source": [
    "from selkie.fst import from_list\n",
    "fst = from_list(words)\n",
    "fst.dump()"
   ]
  },
  {
   "cell_type": "code",
   "execution_count": 15,
   "id": "aa49da87",
   "metadata": {},
   "outputs": [
    {
     "name": "stdout",
     "output_type": "stream",
     "text": [
      "'Fst:\\n  ->0  [0]\\n    1  [1]\\n    2  [2]\\n    3  [3]\\n    4# [4]\\n    5# [5]\\n    6  [6]\\n    7# [7]\\n    8# [8]\\n    9# [9]\\n    10  [10]\\n    11  [11]\\n    12# [12]\\n    0 1 t :\\n    0 10 c :\\n    1 2 h :\\n    1 8 o : to\\n    2 3 i :\\n    2 5 e : the\\n    3 4 s : this\\n    5 6 s :\\n    6 7 e : these\\n    8 9 e : toe\\n    10 11 a :\\n    11 12 t : cat\\n'\n"
     ]
    }
   ],
   "source": [
    "from selkie.io import redirect\n",
    "with redirect():\n",
    "    fst.dump()\n",
    "print(repr(redirect.output))"
   ]
  },
  {
   "cell_type": "code",
   "execution_count": 16,
   "id": "3fa092a5",
   "metadata": {},
   "outputs": [
    {
     "data": {
      "text/plain": [
       "[(['c', 'a', 't'], ['cat']),\n",
       " (['t', 'o'], ['to']),\n",
       " (['t', 'o', 'e'], ['to', 'toe']),\n",
       " (['t', 'h', 'e'], ['the']),\n",
       " (['t', 'h', 'e', 's', 'e'], ['the', 'these']),\n",
       " (['t', 'h', 'i', 's'], ['this'])]"
      ]
     },
     "execution_count": 16,
     "metadata": {},
     "output_type": "execute_result"
    }
   ],
   "source": [
    "list(fst)"
   ]
  },
  {
   "cell_type": "code",
   "execution_count": 17,
   "id": "b15448c6",
   "metadata": {},
   "outputs": [
    {
     "data": {
      "text/plain": [
       "['cat', 'the', 'these', 'this', 'to', 'toe']"
      ]
     },
     "execution_count": 17,
     "metadata": {},
     "output_type": "execute_result"
    }
   ],
   "source": [
    "sorted(o[-1] for (i, o) in fst)"
   ]
  },
  {
   "cell_type": "code",
   "execution_count": null,
   "id": "6d33ac25",
   "metadata": {},
   "outputs": [],
   "source": []
  }
 ],
 "metadata": {
  "kernelspec": {
   "display_name": "Python 3 (ipykernel)",
   "language": "python",
   "name": "python3"
  },
  "language_info": {
   "codemirror_mode": {
    "name": "ipython",
    "version": 3
   },
   "file_extension": ".py",
   "mimetype": "text/x-python",
   "name": "python",
   "nbconvert_exporter": "python",
   "pygments_lexer": "ipython3",
   "version": "3.9.7"
  }
 },
 "nbformat": 4,
 "nbformat_minor": 5
}
