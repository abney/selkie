{
 "cells": [
  {
   "cell_type": "code",
   "execution_count": 1,
   "id": "fcf42bf1",
   "metadata": {},
   "outputs": [
    {
     "data": {
      "text/plain": [
       "<_io.TextIOWrapper name='/Users/abney/opt/anaconda3/lib/python3.9/site-packages/selkie/data/examples/xml1' mode='r' encoding='utf8'>"
      ]
     },
     "execution_count": 1,
     "metadata": {},
     "output_type": "execute_result"
    }
   ],
   "source": [
    "from selkie.data import ex\n",
    "from selkie.io import infile\n",
    "xml1 = infile(ex('xml1'))\n",
    "xml1"
   ]
  },
  {
   "cell_type": "code",
   "execution_count": 2,
   "id": "0858c66b",
   "metadata": {},
   "outputs": [
    {
     "data": {
      "text/plain": [
       "['<html>\\n',\n",
       " '<body foo=\"hi&amp;bye\" bar=16>\\n',\n",
       " 'A &quot;little&quot; <b>example</b>.\\n',\n",
       " '</body>\\n',\n",
       " '</html>\\n']"
      ]
     },
     "execution_count": 2,
     "metadata": {},
     "output_type": "execute_result"
    }
   ],
   "source": [
    "list(xml1)"
   ]
  },
  {
   "cell_type": "code",
   "execution_count": 3,
   "id": "230ba378",
   "metadata": {},
   "outputs": [
    {
     "data": {
      "text/plain": [
       "[<Tag start html [] 0>,\n",
       " '\\n',\n",
       " <Tag start body [('foo', 'hi&bye'), ('bar', '16')] 7>,\n",
       " '\\nA \"little\" ',\n",
       " <Tag start b [] 59>,\n",
       " 'example',\n",
       " <Tag end b [] 69>,\n",
       " '.\\n',\n",
       " <Tag end body [] 75>,\n",
       " '\\n',\n",
       " <Tag end html [] 83>,\n",
       " '\\n']"
      ]
     },
     "execution_count": 3,
     "metadata": {},
     "output_type": "execute_result"
    }
   ],
   "source": [
    "from selkie.xml import iter_xml_tags\n",
    "list(iter_xml_tags(ex('xml1')))"
   ]
  },
  {
   "cell_type": "code",
   "execution_count": 4,
   "id": "745b6e8c",
   "metadata": {},
   "outputs": [
    {
     "data": {
      "text/plain": [
       "['L', 'c']"
      ]
     },
     "execution_count": 4,
     "metadata": {},
     "output_type": "execute_result"
    }
   ],
   "source": [
    "import selkie.string as ss\n",
    "list(ss.ascii_chars('L\\u00ffc'))"
   ]
  },
  {
   "cell_type": "code",
   "execution_count": 5,
   "id": "e4bdb64b",
   "metadata": {},
   "outputs": [
    {
     "data": {
      "text/plain": [
       "'\"Lÿc\"'"
      ]
     },
     "execution_count": 5,
     "metadata": {},
     "output_type": "execute_result"
    }
   ],
   "source": [
    "ss.quoted('L\\u00ffc')"
   ]
  },
  {
   "cell_type": "code",
   "execution_count": 6,
   "id": "181d7097",
   "metadata": {},
   "outputs": [
    {
     "name": "stdout",
     "output_type": "stream",
     "text": [
      "0   (html\n",
      "1      ('#CDATA' '\\n')\n",
      "2      (body\n",
      "3         ('#CDATA' '\\nA \"little\" ')\n",
      "4         (b\n",
      "5            ('#CDATA' example))\n",
      "6         ('#CDATA' '.\\n'))\n",
      "7      ('#CDATA' '\\n'))\n"
     ]
    }
   ],
   "source": [
    "from selkie.xml import load_xml\n",
    "xml1 = load_xml(ex('xml1'))\n",
    "print(xml1)"
   ]
  },
  {
   "cell_type": "code",
   "execution_count": 7,
   "id": "b620e9db",
   "metadata": {},
   "outputs": [
    {
     "data": {
      "text/plain": [
       "'ča'"
      ]
     },
     "execution_count": 7,
     "metadata": {},
     "output_type": "execute_result"
    }
   ],
   "source": [
    "import selkie.rom\n",
    "b'c*a'.decode('salish')"
   ]
  },
  {
   "cell_type": "code",
   "execution_count": 8,
   "id": "8b465415",
   "metadata": {},
   "outputs": [],
   "source": [
    "from itertools import islice"
   ]
  },
  {
   "cell_type": "code",
   "execution_count": 9,
   "id": "d2678001",
   "metadata": {},
   "outputs": [
    {
     "data": {
      "text/plain": [
       "['korean', 'otw-webkamigad', 'salish', 'gothic', 'gothic-student', 'otw-jones']"
      ]
     },
     "execution_count": 9,
     "metadata": {},
     "output_type": "execute_result"
    }
   ],
   "source": [
    "from selkie.rom import default_registry\n",
    "list(default_registry)"
   ]
  },
  {
   "cell_type": "code",
   "execution_count": 10,
   "id": "ded1d5ae",
   "metadata": {},
   "outputs": [
    {
     "data": {
      "text/plain": [
       "<selkie.rom.Romanization at 0x7f81d581c250>"
      ]
     },
     "execution_count": 10,
     "metadata": {},
     "output_type": "execute_result"
    }
   ],
   "source": [
    "salish = default_registry['salish']\n",
    "salish"
   ]
  },
  {
   "cell_type": "code",
   "execution_count": 11,
   "id": "f619ec1d",
   "metadata": {},
   "outputs": [
    {
     "data": {
      "text/plain": [
       "'/Users/abney/opt/anaconda3/lib/python3.9/site-packages/selkie/data/seal/salish.rom'"
      ]
     },
     "execution_count": 11,
     "metadata": {},
     "output_type": "execute_result"
    }
   ],
   "source": [
    "salish.filename"
   ]
  },
  {
   "cell_type": "code",
   "execution_count": 12,
   "id": "865e09b4",
   "metadata": {},
   "outputs": [
    {
     "data": {
      "text/plain": [
       "[('A*', '\\\\(c1)'),\n",
       " ('a*', '\\\\(e1)'),\n",
       " (\"C'\", 'C\\\\(0313)'),\n",
       " (\"c'\", 'c\\\\(0313)'),\n",
       " ('C*', '\\\\(010c)'),\n",
       " ('c*', '\\\\(010d)'),\n",
       " (\"C*'\", '\\\\(010c 0313)'),\n",
       " (\"c*'\", '\\\\(010d 0313)'),\n",
       " ('E*', '\\\\(c9)'),\n",
       " ('e*', '\\\\(e9)'),\n",
       " ('I*', '\\\\(cd)'),\n",
       " ('i*', '\\\\(ed)'),\n",
       " ('Kw', 'K\\\\(02b7)'),\n",
       " ('kw', 'k\\\\(02b7)'),\n",
       " (\"K'w\", 'K\\\\(0313 02b7)'),\n",
       " (\"k'w\", 'k\\\\(0313 02b7)'),\n",
       " (\"L'\", 'L\\\\(0313)'),\n",
       " (\"l'\", 'l\\\\(0313)'),\n",
       " ('L*', '\\\\(2c62)'),\n",
       " ('l*', '\\\\(026b)'),\n",
       " ('l**', '\\\\(019b 0313)'),\n",
       " (\"M'\", 'M\\\\(0313)'),\n",
       " (\"m'\", 'm\\\\(0313)'),\n",
       " (\"N'\", 'N\\\\(0313)'),\n",
       " (\"n'\", 'n\\\\(0313)'),\n",
       " ('O*', '\\\\(00d3)'),\n",
       " ('o*', '\\\\(00f3)'),\n",
       " (\"P'\", 'P\\\\(0313)'),\n",
       " (\"p'\", 'p\\\\(0313)'),\n",
       " (\"Q'\", 'Q\\\\(0313)'),\n",
       " (\"q'\", 'q\\\\(0313)'),\n",
       " ('Qw', 'Q\\\\(02b7)'),\n",
       " ('qw', 'q\\\\(02b7)'),\n",
       " (\"Q'w\", 'Q\\\\(0313 02b7)'),\n",
       " (\"q'w\", 'q\\\\(0313 02b7)'),\n",
       " ('S*', '\\\\(0160)'),\n",
       " ('s*', '\\\\(0161)'),\n",
       " (\"T'\", 'T\\\\(0313)'),\n",
       " (\"t'\", 't\\\\(0313)'),\n",
       " ('U*', '\\\\(da)'),\n",
       " ('u*', '\\\\(fa)'),\n",
       " (\"W'\", 'W\\\\(0313)'),\n",
       " (\"w'\", 'w\\\\(0313)'),\n",
       " ('Xw', 'X\\\\(02b7)'),\n",
       " ('xw', 'x\\\\(02b7)'),\n",
       " ('X', 'X\\\\(0323)'),\n",
       " ('x', 'x\\\\(0323)'),\n",
       " ('Xw*', 'X\\\\(0323 02b7)'),\n",
       " ('xw*', 'x\\\\(0323 02b7)'),\n",
       " (\"Y'\", 'Y\\\\(0313)'),\n",
       " (\"y'\", 'y\\\\(0313)'),\n",
       " ('|', '\\\\(0295)'),\n",
       " (\"|'\", '\\\\(0295 0313)'),\n",
       " ('|w', '\\\\(0295 02b7)'),\n",
       " (\"|'w\", '\\\\(0295 02b7 0313)'),\n",
       " ('J', '\\\\(0294)'),\n",
       " ('j', '\\\\(0294)'),\n",
       " ('@', '\\\\(0259)')]"
      ]
     },
     "execution_count": 12,
     "metadata": {},
     "output_type": "execute_result"
    }
   ],
   "source": [
    "list(salish.items())"
   ]
  },
  {
   "cell_type": "code",
   "execution_count": 13,
   "id": "fa564631",
   "metadata": {},
   "outputs": [
    {
     "name": "stdout",
     "output_type": "stream",
     "text": [
      "A*\t\\(c1)\n",
      "a*\t\\(e1)\n",
      "C'\tC\\(0313)\n",
      "c'\tc\\(0313)\n",
      "C*\t\\(010c)\n",
      "c*\t\\(010d)\n",
      "C*'\t\\(010c 0313)\n",
      "c*'\t\\(010d 0313)\n",
      "E*\t\\(c9)\n",
      "e*\t\\(e9)\n",
      "I*\t\\(cd)\n",
      "i*\t\\(ed)\n",
      "Kw\tK\\(02b7)\n",
      "kw\tk\\(02b7)\n",
      "K'w\tK\\(0313 02b7)\n",
      "k'w\tk\\(0313 02b7)\n",
      "L'\tL\\(0313)\n",
      "l'\tl\\(0313)\n",
      "L*\t\\(2c62)\n",
      "l*\t\\(026b)\n",
      "l**\t\\(019b 0313)\n",
      "M'\tM\\(0313)\n",
      "m'\tm\\(0313)\n",
      "N'\tN\\(0313)\n",
      "n'\tn\\(0313)\n",
      "O*\t\\(00d3)\n",
      "o*\t\\(00f3)\n",
      "P'\tP\\(0313)\n",
      "p'\tp\\(0313)\n",
      "Q'\tQ\\(0313)\n",
      "q'\tq\\(0313)\n",
      "Qw\tQ\\(02b7)\n",
      "qw\tq\\(02b7)\n",
      "Q'w\tQ\\(0313 02b7)\n",
      "q'w\tq\\(0313 02b7)\n",
      "S*\t\\(0160)\n",
      "s*\t\\(0161)\n",
      "T'\tT\\(0313)\n",
      "t'\tt\\(0313)\n",
      "U*\t\\(da)\n",
      "u*\t\\(fa)\n",
      "W'\tW\\(0313)\n",
      "w'\tw\\(0313)\n",
      "Xw\tX\\(02b7)\n",
      "xw\tx\\(02b7)\n",
      "X\tX\\(0323)\n",
      "x\tx\\(0323)\n",
      "Xw*\tX\\(0323 02b7)\n",
      "xw*\tx\\(0323 02b7)\n",
      "Y'\tY\\(0313)\n",
      "y'\ty\\(0313)\n",
      "|\t\\(0295)\n",
      "|'\t\\(0295 0313)\n",
      "|w\t\\(0295 02b7)\n",
      "|'w\t\\(0295 02b7 0313)\n",
      "J\t\\(0294)\n",
      "j\t\\(0294)\n",
      "@\t\\(0259)\n",
      "\n"
     ]
    }
   ],
   "source": [
    "print(salish)"
   ]
  },
  {
   "cell_type": "code",
   "execution_count": null,
   "id": "7d1fe3f1",
   "metadata": {},
   "outputs": [],
   "source": []
  }
 ],
 "metadata": {
  "kernelspec": {
   "display_name": "Python 3 (ipykernel)",
   "language": "python",
   "name": "python3"
  },
  "language_info": {
   "codemirror_mode": {
    "name": "ipython",
    "version": 3
   },
   "file_extension": ".py",
   "mimetype": "text/x-python",
   "name": "python",
   "nbconvert_exporter": "python",
   "pygments_lexer": "ipython3",
   "version": "3.9.7"
  }
 },
 "nbformat": 4,
 "nbformat_minor": 5
}
