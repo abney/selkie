{
 "cells": [
  {
   "cell_type": "code",
   "execution_count": 1,
   "id": "db12b90c",
   "metadata": {},
   "outputs": [
    {
     "name": "stdout",
     "output_type": "stream",
     "text": [
      "1\t2\tthe\n",
      "2\t2\tbig\n",
      "2\t2\tred\n",
      "2\t3\tdog\n",
      "3\n"
     ]
    }
   ],
   "source": [
    "from selkie.data import ex\n",
    "from selkie.io import contents\n",
    "print(contents(ex('fsa1')), end='')"
   ]
  },
  {
   "cell_type": "code",
   "execution_count": 2,
   "id": "30f5e590",
   "metadata": {},
   "outputs": [
    {
     "data": {
      "text/plain": [
       "<_io.TextIOWrapper name='/Users/abney/opt/anaconda3/lib/python3.9/site-packages/selkie/data/examples/fsa1' mode='r' encoding='utf8'>"
      ]
     },
     "execution_count": 2,
     "metadata": {},
     "output_type": "execute_result"
    }
   ],
   "source": [
    "from selkie.io import infile\n",
    "infile(ex('fsa1'))"
   ]
  },
  {
   "cell_type": "code",
   "execution_count": null,
   "id": "c53bda97",
   "metadata": {},
   "outputs": [],
   "source": []
  }
 ],
 "metadata": {
  "kernelspec": {
   "display_name": "Python 3 (ipykernel)",
   "language": "python",
   "name": "python3"
  },
  "language_info": {
   "codemirror_mode": {
    "name": "ipython",
    "version": 3
   },
   "file_extension": ".py",
   "mimetype": "text/x-python",
   "name": "python",
   "nbconvert_exporter": "python",
   "pygments_lexer": "ipython3",
   "version": "3.9.7"
  }
 },
 "nbformat": 4,
 "nbformat_minor": 5
}
