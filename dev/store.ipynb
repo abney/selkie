{
 "cells": [
  {
   "cell_type": "code",
   "execution_count": 1,
   "id": "dea2f62f",
   "metadata": {},
   "outputs": [],
   "source": [
    "from os.path import expanduser\n",
    "rootfn = expanduser('~/git/cld/v24.lgc')"
   ]
  },
  {
   "cell_type": "code",
   "execution_count": 2,
   "id": "0f0b8aef",
   "metadata": {},
   "outputs": [
    {
     "name": "stdout",
     "output_type": "stream",
     "text": [
      "Makefile      \u001b[34mbin\u001b[m\u001b[m/          \u001b[34mhtdocs\u001b[m\u001b[m/       \u001b[31mstandalone\u001b[m\u001b[m*   \u001b[34mv23.lgc\u001b[m\u001b[m/\r\n",
      "README        \u001b[34mconfig\u001b[m\u001b[m/       \u001b[31minstall.tmpl\u001b[m\u001b[m* \u001b[34mtest.cld\u001b[m\u001b[m/     \u001b[34mv24.lgc\u001b[m\u001b[m/\r\n",
      "VERSION       \u001b[34mcorpus\u001b[m\u001b[m/       \u001b[31mmakeinstall\u001b[m\u001b[m*  \u001b[34mtesting\u001b[m\u001b[m/\r\n",
      "\u001b[34mapache\u001b[m\u001b[m/       \u001b[34mcorpus.cld\u001b[m\u001b[m/   \u001b[31mmaketar\u001b[m\u001b[m*      \u001b[34mv20\u001b[m\u001b[m/\r\n",
      "\u001b[34mapple\u001b[m\u001b[m/        \u001b[34mcorpus.cld.1\u001b[m\u001b[m/ \u001b[31mpost\u001b[m\u001b[m*         \u001b[34mv22.lgc\u001b[m\u001b[m/\r\n"
     ]
    }
   ],
   "source": [
    "ls ~/git/cld"
   ]
  },
  {
   "cell_type": "code",
   "execution_count": 3,
   "id": "13ca65c8",
   "metadata": {},
   "outputs": [],
   "source": [
    "from selkie.disk import JSONDisk\n",
    "disk = JSONDisk(rootfn)"
   ]
  },
  {
   "cell_type": "code",
   "execution_count": 4,
   "id": "f5a42f8e",
   "metadata": {},
   "outputs": [
    {
     "name": "stdout",
     "output_type": "stream",
     "text": [
      "corpus   \u001b[34mdeu.lg\u001b[m\u001b[m/  langs    \u001b[34moji.lg\u001b[m\u001b[m/  toc~\r\n",
      "corpus~  \u001b[34mfla.lg\u001b[m\u001b[m/  langs~   \u001b[34mroms\u001b[m\u001b[m/\r\n"
     ]
    }
   ],
   "source": [
    "ls ~/git/cld/v24.lgc"
   ]
  },
  {
   "cell_type": "code",
   "execution_count": 5,
   "id": "c95c90be",
   "metadata": {},
   "outputs": [
    {
     "data": {
      "text/plain": [
       "[{'id': 'oji', 'name': 'Anishinaabemowin (Ojibwe)'},\n",
       " {'id': 'jje', 'name': 'Jejuo'},\n",
       " {'id': 'fla', 'name': 'Montana Salish'},\n",
       " {'id': 'mar', 'name': 'Marathi'},\n",
       " {'id': 'deu', 'name': 'German'}]"
      ]
     },
     "execution_count": 5,
     "metadata": {},
     "output_type": "execute_result"
    }
   ],
   "source": [
    "disk['/langs']"
   ]
  },
  {
   "cell_type": "code",
   "execution_count": 6,
   "id": "3d730d90",
   "metadata": {},
   "outputs": [],
   "source": [
    "from selkie.store import Directory, File, Dict, List, Str\n",
    "\n",
    "class LanguageName (Dict):\n",
    "    __schema__ = {'id':Str, 'name':Str}\n",
    "\n",
    "class Corpus (Directory):\n",
    "    __schema__ = {'langs': File(List(LanguageName))}"
   ]
  },
  {
   "cell_type": "code",
   "execution_count": 7,
   "id": "c8a58087",
   "metadata": {},
   "outputs": [],
   "source": [
    "from selkie.store import Store\n",
    "corpus = Corpus(Store(rootfn))"
   ]
  },
  {
   "cell_type": "code",
   "execution_count": 8,
   "id": "bea07373",
   "metadata": {},
   "outputs": [
    {
     "data": {
      "text/plain": [
       "<__main__.Corpus at 0x7fe933a43cd0>"
      ]
     },
     "execution_count": 8,
     "metadata": {},
     "output_type": "execute_result"
    }
   ],
   "source": [
    "corpus"
   ]
  },
  {
   "cell_type": "code",
   "execution_count": 9,
   "id": "9ef9e880",
   "metadata": {},
   "outputs": [
    {
     "data": {
      "text/plain": [
       "<selkie.store.Store at 0x7fe933a43ee0>"
      ]
     },
     "execution_count": 9,
     "metadata": {},
     "output_type": "execute_result"
    }
   ],
   "source": [
    "corpus.__backing__"
   ]
  },
  {
   "cell_type": "code",
   "execution_count": 10,
   "id": "73009209",
   "metadata": {},
   "outputs": [
    {
     "data": {
      "text/plain": [
       "{'langs': <selkie.store._List at 0x7fe933a43c70>}"
      ]
     },
     "execution_count": 10,
     "metadata": {},
     "output_type": "execute_result"
    }
   ],
   "source": [
    "corpus._contents"
   ]
  },
  {
   "cell_type": "code",
   "execution_count": null,
   "id": "7f4b7634",
   "metadata": {},
   "outputs": [],
   "source": []
  }
 ],
 "metadata": {
  "kernelspec": {
   "display_name": "Python 3 (ipykernel)",
   "language": "python",
   "name": "python3"
  },
  "language_info": {
   "codemirror_mode": {
    "name": "ipython",
    "version": 3
   },
   "file_extension": ".py",
   "mimetype": "text/x-python",
   "name": "python",
   "nbconvert_exporter": "python",
   "pygments_lexer": "ipython3",
   "version": "3.9.7"
  }
 },
 "nbformat": 4,
 "nbformat_minor": 5
}
