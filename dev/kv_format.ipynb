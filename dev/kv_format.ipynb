{
 "cells": [
  {
   "cell_type": "code",
   "execution_count": 1,
   "id": "cfded2ab",
   "metadata": {},
   "outputs": [],
   "source": [
    "from selkie.data import ex\n",
    "fn = ex('corp23.lgc')"
   ]
  },
  {
   "cell_type": "code",
   "execution_count": 2,
   "id": "9b20a2d0",
   "metadata": {},
   "outputs": [
    {
     "data": {
      "text/plain": [
       "{'langs': {'id': 'deu', 'name': 'German', 'fn': 'deu/lang'},\n",
       " 'orths': [{'id': 'deu', 'fn': 'rom/deu.rom'}]}"
      ]
     },
     "execution_count": 2,
     "metadata": {},
     "output_type": "execute_result"
    }
   ],
   "source": [
    "from os.path import join\n",
    "from selkie.io import load_kvi\n",
    "load_kvi(join(fn, 'corpus'))"
   ]
  },
  {
   "cell_type": "code",
   "execution_count": 3,
   "id": "ef221089",
   "metadata": {},
   "outputs": [
    {
     "data": {
      "text/plain": [
       "{'lx': 'lexicon.lex',\n",
       " 'idx': 'lexicon.idx',\n",
       " 'texts': [{'id': '1',\n",
       "   'ty': 'story',\n",
       "   'ti': 'Eine kleine Geschichte',\n",
       "   'ch': '2 3'},\n",
       "  {'id': '2', 'ty': 'page', 'ti': 'p1', 'fn': '2.txt'},\n",
       "  {'id': '3', 'ty': 'page', 'ti': 'p2', 'fn': '3.txt', 'audio': '3.wav'}]}"
      ]
     },
     "execution_count": 3,
     "metadata": {},
     "output_type": "execute_result"
    }
   ],
   "source": [
    "load_kvi(join(fn, 'deu', 'lang'))"
   ]
  },
  {
   "cell_type": "code",
   "execution_count": 4,
   "id": "9d1bf66d",
   "metadata": {},
   "outputs": [
    {
     "data": {
      "text/plain": [
       "[{'w': 'in einem kleinen Dorf am Fluss wohnte ein Schuster',\n",
       "  'G': 'in a little village on a river there lived a cobbler'},\n",
       " {'w': 'der Schuster war sehr arm', 'G': 'the cobbler was very poor'}]"
      ]
     },
     "execution_count": 4,
     "metadata": {},
     "output_type": "execute_result"
    }
   ],
   "source": [
    "load_kvi(join(fn, 'deu', '2.txt'))"
   ]
  },
  {
   "cell_type": "code",
   "execution_count": 5,
   "id": "05be04c9",
   "metadata": {},
   "outputs": [
    {
     "data": {
      "text/plain": [
       "[{'w': [1.4958,\n",
       "   'eines Tages',\n",
       "   1.9394,\n",
       "   'begegnete der Schuster',\n",
       "   2.7833,\n",
       "   'einen Bettler',\n",
       "   3.3269],\n",
       "  'G': 'one day the cobbler met a beggar'}]"
      ]
     },
     "execution_count": 5,
     "metadata": {},
     "output_type": "execute_result"
    }
   ],
   "source": [
    "load_kvi(join(fn, 'deu', '3.txt'))"
   ]
  },
  {
   "cell_type": "code",
   "execution_count": 6,
   "id": "6a36cc2a",
   "metadata": {},
   "outputs": [
    {
     "name": "stdout",
     "output_type": "stream",
     "text": [
      "{'lex': 'lexicon.lx', 'texts': [{'ti': ' Hi: My #|@\\\\ \"Adventures\"', 'pgs': 238}, {'au': 'J. Smith', 'ti': 'Bar'}]}\n"
     ]
    }
   ],
   "source": [
    "s = '''\n",
    "# A comment\n",
    "lex |lexicon.lx\n",
    "texts []:\n",
    "  {}:\n",
    "    ti | Hi: My #|@\\ \"Adventures\"\n",
    "    pgs 238\n",
    "  {}:\n",
    "    au |J. Smith\n",
    "    ti |Bar\n",
    "'''\n",
    "from io import StringIO\n",
    "from selkie.io import read_kvi\n",
    "with StringIO(s) as f:\n",
    "    print(read_kvi(iter(f)))"
   ]
  },
  {
   "cell_type": "code",
   "execution_count": null,
   "id": "abc7b9e6",
   "metadata": {},
   "outputs": [],
   "source": []
  }
 ],
 "metadata": {
  "kernelspec": {
   "display_name": "Python 3 (ipykernel)",
   "language": "python",
   "name": "python3"
  },
  "language_info": {
   "codemirror_mode": {
    "name": "ipython",
    "version": 3
   },
   "file_extension": ".py",
   "mimetype": "text/x-python",
   "name": "python",
   "nbconvert_exporter": "python",
   "pygments_lexer": "ipython3",
   "version": "3.9.7"
  }
 },
 "nbformat": 4,
 "nbformat_minor": 5
}
