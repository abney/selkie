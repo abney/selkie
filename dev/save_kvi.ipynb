{
 "cells": [
  {
   "cell_type": "code",
   "execution_count": 1,
   "id": "0dac3606",
   "metadata": {},
   "outputs": [],
   "source": [
    "x = {'foo': ['hi', 10, 3.6, False, None, {'bar': 42, 'baz': [3,4]}], 'blip': '  sdf sdf'}"
   ]
  },
  {
   "cell_type": "code",
   "execution_count": 3,
   "id": "df3b8507",
   "metadata": {},
   "outputs": [],
   "source": [
    "from selkie.io import save_kvi\n",
    "save_kvi(x, '/tmp/foo.kvi')"
   ]
  },
  {
   "cell_type": "code",
   "execution_count": 4,
   "id": "d848afc0",
   "metadata": {},
   "outputs": [
    {
     "name": "stdout",
     "output_type": "stream",
     "text": [
      "foo []:\r\n",
      "  |hi\r\n",
      "  10\r\n",
      "  3.6\r\n",
      "  :F\r\n",
      "  -\r\n",
      "  {}:\r\n",
      "    bar 42\r\n",
      "    baz []:\r\n",
      "      3\r\n",
      "      4\r\n",
      "blip |  sdf sdf\r\n"
     ]
    }
   ],
   "source": [
    "cat /tmp/foo.kvi"
   ]
  },
  {
   "cell_type": "code",
   "execution_count": 5,
   "id": "1e6c7088",
   "metadata": {},
   "outputs": [],
   "source": [
    "rm /tmp/foo.kvi"
   ]
  },
  {
   "cell_type": "code",
   "execution_count": null,
   "id": "bf950fd1",
   "metadata": {},
   "outputs": [],
   "source": []
  }
 ],
 "metadata": {
  "kernelspec": {
   "display_name": "Python 3 (ipykernel)",
   "language": "python",
   "name": "python3"
  },
  "language_info": {
   "codemirror_mode": {
    "name": "ipython",
    "version": 3
   },
   "file_extension": ".py",
   "mimetype": "text/x-python",
   "name": "python",
   "nbconvert_exporter": "python",
   "pygments_lexer": "ipython3",
   "version": "3.9.7"
  }
 },
 "nbformat": 4,
 "nbformat_minor": 5
}
